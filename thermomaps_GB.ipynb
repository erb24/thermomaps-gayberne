{
 "cells": [
  {
   "cell_type": "code",
   "execution_count": 1,
   "metadata": {
    "id": "s2Pb3O2u-yD7"
   },
   "outputs": [],
   "source": [
    "import numpy as np\n",
    "import matplotlib.pyplot as plt\n",
    "from tqdm import tqdm\n",
    "\n",
    "from ising.observables import Energy, Magnetization\n",
    "from ising.samplers import SwendsenWangSampler, SingleSpinFlipSampler\n",
    "from ising.base import IsingModel\n",
    "\n",
    "from data.trajectory import EnsembleTrajectory, MultiEnsembleTrajectory\n",
    "from data.dataset import MultiEnsembleDataset\n",
    "from data.generic import Summary\n",
    "\n",
    "from tm.core.prior import GlobalEquilibriumHarmonicPrior, UnitNormalPrior\n",
    "from tm.core.backbone import ConvBackbone\n",
    "from tm.core.diffusion_model import DiffusionTrainer, SteeredDiffusionSampler\n",
    "from tm.core.diffusion_process import VPDiffusion\n",
    "from tm.architectures.unet_2d_mid_attn import Unet2D\n",
    "from tm.architectures.unet_1d import Unet1D\n",
    "\n",
    "# extra libraries I am importing to implement the kludge\n",
    "from data.observables import Observable\n",
    "from sklearn.model_selection import ShuffleSplit\n",
    "from tm.core.loader import Loader"
   ]
  },
  {
   "cell_type": "markdown",
   "metadata": {
    "id": "_3aDvMJUpcH0"
   },
   "source": [
    "First we simulate the Ising model over a range of temperatures, recording a `trajectory` consisting of lattice configurations. These trajectories are then aggregated into a `MultiEnsembleDataset` (i.e. many trajectories gathered under different thermodynamic ensembles)."
   ]
  },
  {
   "cell_type": "code",
   "execution_count": 32,
   "metadata": {},
   "outputs": [],
   "source": [
    "trajectories = []\n",
    "for temperature in [0.1, 0.5, 1.0, 1.1, 1.2, 1.3, 1.4, 1.5, 1.6, 1.7, 1.8, 1.9, 2.0, 2.1, 2.2, 2.3, 2.4]:\n",
    "    IM = IsingModel(sampler=SingleSpinFlipSampler, size = 8, warmup = 1000, temp = np.round(temperature,1), Jx = 1, Jy = 1)\n",
    "    IM.trajectory.coordinates = np.load('%sT/local_S.npy' % temperature)[:,:320]\n",
    "    IM.trajectory.summary.size = 343\n",
    "    IM.trajectory.summary.name = 'Gay-Berne'\n",
    "    nrg = np.load('%sT/e.npy' % temperature)\n",
    "    S = np.load('%sT/S.npy' % temperature)\n",
    "    IM.trajectory.observables['energy'] = nrg\n",
    "    IM.trajectory.observables['magnetization'] = S\n",
    "    trajectories.append(IM.trajectory)\n",
    "dataset = MultiEnsembleDataset(trajectories, Summary())"
   ]
  },
  {
   "cell_type": "markdown",
   "metadata": {
    "id": "hWxqhCpCqPLS"
   },
   "source": [
    "\n",
    "Each of the trajectories has a `Summary` object attached to it, which is just a `dict` containing metadata about the trajectory. If the summaries associated with all the trajectories in the `MultiEnsembleDataset` all have the same keys, the contents of the `MultiEnsembleDataset` can be conveniently cast as a pandas dataframe."
   ]
  },
  {
   "cell_type": "code",
   "execution_count": 3,
   "metadata": {},
   "outputs": [],
   "source": [
    "# for me, I think I need to pass directly to the TM model the\n",
    "# trajectories of the local nematic/S/P2 order parameter calculated for\n",
    "# each ellipsoid in the simulation box. These map directly onto the Ising\n",
    "# spins used here, and "
   ]
  },
  {
   "cell_type": "code",
   "execution_count": 4,
   "metadata": {
    "colab": {
     "base_uri": "https://localhost:8080/",
     "height": 551
    },
    "id": "NdQcoCpuF2RE",
    "outputId": "8b4cecf8-8d05-4935-9dfa-1c74281bb72c"
   },
   "outputs": [
    {
     "data": {
      "text/html": [
       "<div>\n",
       "<style scoped>\n",
       "    .dataframe tbody tr th:only-of-type {\n",
       "        vertical-align: middle;\n",
       "    }\n",
       "\n",
       "    .dataframe tbody tr th {\n",
       "        vertical-align: top;\n",
       "    }\n",
       "\n",
       "    .dataframe thead th {\n",
       "        text-align: right;\n",
       "    }\n",
       "</style>\n",
       "<table border=\"1\" class=\"dataframe\">\n",
       "  <thead>\n",
       "    <tr style=\"text-align: right;\">\n",
       "      <th></th>\n",
       "      <th>index</th>\n",
       "      <th>name</th>\n",
       "      <th>size</th>\n",
       "      <th>temperature</th>\n",
       "      <th>Jx</th>\n",
       "      <th>Jy</th>\n",
       "      <th>sampler</th>\n",
       "    </tr>\n",
       "  </thead>\n",
       "  <tbody>\n",
       "    <tr>\n",
       "      <th>0</th>\n",
       "      <td>0</td>\n",
       "      <td>Gay-Berne</td>\n",
       "      <td>343</td>\n",
       "      <td>0.1</td>\n",
       "      <td>1</td>\n",
       "      <td>1</td>\n",
       "      <td>SingleSpin</td>\n",
       "    </tr>\n",
       "    <tr>\n",
       "      <th>1</th>\n",
       "      <td>1</td>\n",
       "      <td>Gay-Berne</td>\n",
       "      <td>343</td>\n",
       "      <td>0.5</td>\n",
       "      <td>1</td>\n",
       "      <td>1</td>\n",
       "      <td>SingleSpin</td>\n",
       "    </tr>\n",
       "    <tr>\n",
       "      <th>2</th>\n",
       "      <td>2</td>\n",
       "      <td>Gay-Berne</td>\n",
       "      <td>343</td>\n",
       "      <td>1.0</td>\n",
       "      <td>1</td>\n",
       "      <td>1</td>\n",
       "      <td>SingleSpin</td>\n",
       "    </tr>\n",
       "    <tr>\n",
       "      <th>3</th>\n",
       "      <td>3</td>\n",
       "      <td>Gay-Berne</td>\n",
       "      <td>343</td>\n",
       "      <td>1.1</td>\n",
       "      <td>1</td>\n",
       "      <td>1</td>\n",
       "      <td>SingleSpin</td>\n",
       "    </tr>\n",
       "    <tr>\n",
       "      <th>4</th>\n",
       "      <td>4</td>\n",
       "      <td>Gay-Berne</td>\n",
       "      <td>343</td>\n",
       "      <td>1.2</td>\n",
       "      <td>1</td>\n",
       "      <td>1</td>\n",
       "      <td>SingleSpin</td>\n",
       "    </tr>\n",
       "    <tr>\n",
       "      <th>5</th>\n",
       "      <td>5</td>\n",
       "      <td>Gay-Berne</td>\n",
       "      <td>343</td>\n",
       "      <td>1.3</td>\n",
       "      <td>1</td>\n",
       "      <td>1</td>\n",
       "      <td>SingleSpin</td>\n",
       "    </tr>\n",
       "    <tr>\n",
       "      <th>6</th>\n",
       "      <td>6</td>\n",
       "      <td>Gay-Berne</td>\n",
       "      <td>343</td>\n",
       "      <td>1.4</td>\n",
       "      <td>1</td>\n",
       "      <td>1</td>\n",
       "      <td>SingleSpin</td>\n",
       "    </tr>\n",
       "    <tr>\n",
       "      <th>7</th>\n",
       "      <td>7</td>\n",
       "      <td>Gay-Berne</td>\n",
       "      <td>343</td>\n",
       "      <td>1.5</td>\n",
       "      <td>1</td>\n",
       "      <td>1</td>\n",
       "      <td>SingleSpin</td>\n",
       "    </tr>\n",
       "    <tr>\n",
       "      <th>8</th>\n",
       "      <td>8</td>\n",
       "      <td>Gay-Berne</td>\n",
       "      <td>343</td>\n",
       "      <td>1.6</td>\n",
       "      <td>1</td>\n",
       "      <td>1</td>\n",
       "      <td>SingleSpin</td>\n",
       "    </tr>\n",
       "    <tr>\n",
       "      <th>9</th>\n",
       "      <td>9</td>\n",
       "      <td>Gay-Berne</td>\n",
       "      <td>343</td>\n",
       "      <td>1.7</td>\n",
       "      <td>1</td>\n",
       "      <td>1</td>\n",
       "      <td>SingleSpin</td>\n",
       "    </tr>\n",
       "    <tr>\n",
       "      <th>10</th>\n",
       "      <td>10</td>\n",
       "      <td>Gay-Berne</td>\n",
       "      <td>343</td>\n",
       "      <td>1.8</td>\n",
       "      <td>1</td>\n",
       "      <td>1</td>\n",
       "      <td>SingleSpin</td>\n",
       "    </tr>\n",
       "    <tr>\n",
       "      <th>11</th>\n",
       "      <td>11</td>\n",
       "      <td>Gay-Berne</td>\n",
       "      <td>343</td>\n",
       "      <td>1.9</td>\n",
       "      <td>1</td>\n",
       "      <td>1</td>\n",
       "      <td>SingleSpin</td>\n",
       "    </tr>\n",
       "    <tr>\n",
       "      <th>12</th>\n",
       "      <td>12</td>\n",
       "      <td>Gay-Berne</td>\n",
       "      <td>343</td>\n",
       "      <td>2.0</td>\n",
       "      <td>1</td>\n",
       "      <td>1</td>\n",
       "      <td>SingleSpin</td>\n",
       "    </tr>\n",
       "    <tr>\n",
       "      <th>13</th>\n",
       "      <td>13</td>\n",
       "      <td>Gay-Berne</td>\n",
       "      <td>343</td>\n",
       "      <td>2.1</td>\n",
       "      <td>1</td>\n",
       "      <td>1</td>\n",
       "      <td>SingleSpin</td>\n",
       "    </tr>\n",
       "    <tr>\n",
       "      <th>14</th>\n",
       "      <td>14</td>\n",
       "      <td>Gay-Berne</td>\n",
       "      <td>343</td>\n",
       "      <td>2.2</td>\n",
       "      <td>1</td>\n",
       "      <td>1</td>\n",
       "      <td>SingleSpin</td>\n",
       "    </tr>\n",
       "    <tr>\n",
       "      <th>15</th>\n",
       "      <td>15</td>\n",
       "      <td>Gay-Berne</td>\n",
       "      <td>343</td>\n",
       "      <td>2.3</td>\n",
       "      <td>1</td>\n",
       "      <td>1</td>\n",
       "      <td>SingleSpin</td>\n",
       "    </tr>\n",
       "    <tr>\n",
       "      <th>16</th>\n",
       "      <td>16</td>\n",
       "      <td>Gay-Berne</td>\n",
       "      <td>343</td>\n",
       "      <td>2.4</td>\n",
       "      <td>1</td>\n",
       "      <td>1</td>\n",
       "      <td>SingleSpin</td>\n",
       "    </tr>\n",
       "  </tbody>\n",
       "</table>\n",
       "</div>"
      ],
      "text/plain": [
       "    index       name  size  temperature  Jx  Jy     sampler\n",
       "0       0  Gay-Berne   343          0.1   1   1  SingleSpin\n",
       "1       1  Gay-Berne   343          0.5   1   1  SingleSpin\n",
       "2       2  Gay-Berne   343          1.0   1   1  SingleSpin\n",
       "3       3  Gay-Berne   343          1.1   1   1  SingleSpin\n",
       "4       4  Gay-Berne   343          1.2   1   1  SingleSpin\n",
       "5       5  Gay-Berne   343          1.3   1   1  SingleSpin\n",
       "6       6  Gay-Berne   343          1.4   1   1  SingleSpin\n",
       "7       7  Gay-Berne   343          1.5   1   1  SingleSpin\n",
       "8       8  Gay-Berne   343          1.6   1   1  SingleSpin\n",
       "9       9  Gay-Berne   343          1.7   1   1  SingleSpin\n",
       "10     10  Gay-Berne   343          1.8   1   1  SingleSpin\n",
       "11     11  Gay-Berne   343          1.9   1   1  SingleSpin\n",
       "12     12  Gay-Berne   343          2.0   1   1  SingleSpin\n",
       "13     13  Gay-Berne   343          2.1   1   1  SingleSpin\n",
       "14     14  Gay-Berne   343          2.2   1   1  SingleSpin\n",
       "15     15  Gay-Berne   343          2.3   1   1  SingleSpin\n",
       "16     16  Gay-Berne   343          2.4   1   1  SingleSpin"
      ]
     },
     "execution_count": 4,
     "metadata": {},
     "output_type": "execute_result"
    }
   ],
   "source": [
    "df = dataset.to_dataframe()\n",
    "df"
   ]
  },
  {
   "cell_type": "markdown",
   "metadata": {
    "id": "_x8GZb_uq0Rf"
   },
   "source": [
    "The dataframe representation is especially powerful for creating subsets of a `MultiEnsembleDataset`. In this cell we extract a sub-dataframe containing trajectories at temperatures `T=1.5` and `T=2.5`. The sub-dataset can be initialized from the restricted dataframe.\n",
    "\n",
    "**Our training data is going to be 5,000 samples from two temperatures (total of 10,000 samples) asymetrically spaced about the critical temperature $T_c \\approx 2.26$**"
   ]
  },
  {
   "cell_type": "code",
   "execution_count": 5,
   "metadata": {
    "colab": {
     "base_uri": "https://localhost:8080/",
     "height": 112
    },
    "id": "5M3eyDXZCPZ2",
    "outputId": "d99c4ae5-0a6b-4bbf-bb79-38452f45ccfa"
   },
   "outputs": [
    {
     "data": {
      "text/html": [
       "<div>\n",
       "<style scoped>\n",
       "    .dataframe tbody tr th:only-of-type {\n",
       "        vertical-align: middle;\n",
       "    }\n",
       "\n",
       "    .dataframe tbody tr th {\n",
       "        vertical-align: top;\n",
       "    }\n",
       "\n",
       "    .dataframe thead th {\n",
       "        text-align: right;\n",
       "    }\n",
       "</style>\n",
       "<table border=\"1\" class=\"dataframe\">\n",
       "  <thead>\n",
       "    <tr style=\"text-align: right;\">\n",
       "      <th></th>\n",
       "      <th>index</th>\n",
       "      <th>name</th>\n",
       "      <th>size</th>\n",
       "      <th>temperature</th>\n",
       "      <th>Jx</th>\n",
       "      <th>Jy</th>\n",
       "      <th>sampler</th>\n",
       "    </tr>\n",
       "  </thead>\n",
       "  <tbody>\n",
       "    <tr>\n",
       "      <th>2</th>\n",
       "      <td>2</td>\n",
       "      <td>Gay-Berne</td>\n",
       "      <td>343</td>\n",
       "      <td>1.0</td>\n",
       "      <td>1</td>\n",
       "      <td>1</td>\n",
       "      <td>SingleSpin</td>\n",
       "    </tr>\n",
       "    <tr>\n",
       "      <th>12</th>\n",
       "      <td>12</td>\n",
       "      <td>Gay-Berne</td>\n",
       "      <td>343</td>\n",
       "      <td>2.0</td>\n",
       "      <td>1</td>\n",
       "      <td>1</td>\n",
       "      <td>SingleSpin</td>\n",
       "    </tr>\n",
       "  </tbody>\n",
       "</table>\n",
       "</div>"
      ],
      "text/plain": [
       "    index       name  size  temperature  Jx  Jy     sampler\n",
       "2       2  Gay-Berne   343          1.0   1   1  SingleSpin\n",
       "12     12  Gay-Berne   343          2.0   1   1  SingleSpin"
      ]
     },
     "execution_count": 5,
     "metadata": {},
     "output_type": "execute_result"
    }
   ],
   "source": [
    "sub_df = df[df['temperature'].isin([1.0,2.0])]\n",
    "sub_dataset = dataset.from_dataframe(sub_df)\n",
    "sub_df"
   ]
  },
  {
   "cell_type": "markdown",
   "metadata": {
    "id": "lxspEzdurX3U"
   },
   "source": [
    "Here we extract the relevant observables for the ising model from each temperature in the dataset and plot the distribution of magnetization and energy as a function of temperature."
   ]
  },
  {
   "cell_type": "code",
   "execution_count": 6,
   "metadata": {
    "id": "BYXFsZmmWuHW"
   },
   "outputs": [],
   "source": [
    "simulated_M_v_T_mean = {t.state_variables['temperature']: t.observables['magnetization'].mean() for t in dataset.trajectories}\n",
    "simulated_E_v_T_mean = {t.state_variables['temperature']: t.observables['energy'].mean() for t in dataset.trajectories}\n",
    "simulated_M_v_T_std = {t.state_variables['temperature']: t.observables['magnetization'].std() for t in dataset.trajectories}\n",
    "simulated_E_v_T_std = {t.state_variables['temperature']: t.observables['energy'].std() for t in dataset.trajectories}\n",
    "\n",
    "train_M_v_T = {traj.state_variables['temperature']: simulated_M_v_T_mean[traj.state_variables['temperature']] for traj in sub_dataset.trajectories}\n",
    "train_E_v_T = {traj.state_variables['temperature']: simulated_E_v_T_mean[traj.state_variables['temperature']] for traj in sub_dataset.trajectories}"
   ]
  },
  {
   "cell_type": "code",
   "execution_count": 7,
   "metadata": {
    "colab": {
     "base_uri": "https://localhost:8080/",
     "height": 591
    },
    "id": "5_1RHIb3T_jR",
    "outputId": "e57b7ed1-2f5f-4a54-ffeb-b4f9ef71fa90"
   },
   "outputs": [
    {
     "data": {
      "image/png": "[encoded data removed]",
      "text/plain": [
       "<Figure size 1800x600 with 2 Axes>"
      ]
     },
     "metadata": {},
     "output_type": "display_data"
    }
   ],
   "source": [
    "# Vary these to view different trajectories/configurations\n",
    "trajectory_idx = -1\n",
    "frame = -1\n",
    "\n",
    "default_blue = plt.rcParams['axes.prop_cycle'].by_key()['color'][0]\n",
    "fig, (ax1, ax2) = plt.subplots(1, 2, figsize=(12, 4), dpi=150)\n",
    "ax1.plot(list(simulated_M_v_T_mean.keys()), list(simulated_M_v_T_mean.values()), c=default_blue)\n",
    "ax1.scatter(list(simulated_M_v_T_mean.keys()), list(simulated_M_v_T_mean.values()), c=default_blue)\n",
    "ax1.scatter(list(train_M_v_T.keys()), list(train_M_v_T.values()),\n",
    "            c='r', marker='*', edgecolors='k', s=200, zorder=2, label='Train Data')\n",
    "ax1.fill_between(list(simulated_M_v_T_mean.keys()),\n",
    "                 [max(m - s, 0) for m, s in zip(simulated_M_v_T_mean.values(), simulated_M_v_T_std.values())],\n",
    "                 [min(m + s, 1) for m, s in zip(simulated_M_v_T_mean.values(), simulated_M_v_T_std.values())],\n",
    "                 alpha=0.2, color=default_blue)\n",
    "ax1.set_ylabel('Magnetization')\n",
    "ax1.set_xlabel('Temperature')\n",
    "\n",
    "\n",
    "ax2.plot(list(simulated_E_v_T_mean.keys()), list(simulated_E_v_T_mean.values()), c=default_blue)\n",
    "ax2.scatter(list(simulated_E_v_T_mean.keys()), list(simulated_E_v_T_mean.values()), c=default_blue)\n",
    "ax2.scatter(list(train_E_v_T.keys()), list(train_E_v_T.values()),\n",
    "            c='r', marker='*', edgecolors='k', s=200, zorder=2, label='Train Data')\n",
    "ax2.fill_between(list(simulated_E_v_T_mean.keys()),\n",
    "                 [m - s for m, s in zip(simulated_E_v_T_mean.values(), simulated_E_v_T_std.values())],\n",
    "                 [m + s for m, s in zip(simulated_E_v_T_mean.values(), simulated_E_v_T_std.values())],\n",
    "                 alpha=0.2, color=default_blue)\n",
    "ax2.set_ylabel('Energy')\n",
    "ax2.set_xlabel('Temperature')\n",
    "\n",
    "#img = ax3.imshow(trajectories[-1].coordinates[-1], aspect='equal', cmap='binary')\n",
    "#ax3.set_title(f'Frame {range(len(trajectories[trajectory_idx].coordinates))[frame]} of sim. traj. at T = {trajectories[trajectory_idx].state_variables[\"temperature\"]}')\n",
    "#ax3.set_xticks([])\n",
    "#ax3.set_yticks([])\n",
    "\n",
    "ax1.legend()\n",
    "ax2.legend()\n",
    "plt.tight_layout()\n",
    "plt.show()"
   ]
  },
  {
   "cell_type": "code",
   "execution_count": 8,
   "metadata": {},
   "outputs": [
    {
     "name": "stdout",
     "output_type": "stream",
     "text": [
      "1.0\n",
      "2.0\n"
     ]
    }
   ],
   "source": [
    "# no fluctuations; just a single, averaged observable calculated over the simulation trajectory\n",
    "for traj in sub_dataset.trajectories:\n",
    "    print(traj.state_variables['temperature'])"
   ]
  },
  {
   "cell_type": "markdown",
   "metadata": {
    "id": "fbds5_s7rutF"
   },
   "source": [
    "Loaders for ThermoMap data can also be constructed from a `MultiEnsembleDataset`. The coordinates of the trajectory object are joined with the specified `state_variables` along the channel dimension."
   ]
  },
  {
   "cell_type": "code",
   "execution_count": 9,
   "metadata": {},
   "outputs": [],
   "source": [
    "from importlib import reload\n",
    "from tm.core import diffusion_model\n",
    "import tm.core\n",
    "reload(tm.core)\n",
    "from tm.core import diffusion_model"
   ]
  },
  {
   "cell_type": "code",
   "execution_count": 10,
   "metadata": {
    "id": "MkkgYavBDvz9"
   },
   "outputs": [],
   "source": [
    "# need to change to a one-dimensional Ising model\n",
    "train_loader, test_loader = sub_dataset.to_TMLoader(train_size=0.8, test_size=0.2, state_variables=['temperature'], dequantize = False)"
   ]
  },
  {
   "cell_type": "markdown",
   "metadata": {
    "id": "0dZksKCVsiyH"
   },
   "source": [
    "Here we initialize the components of the ThermoMap algorithm.\n",
    "\n",
    "First, we initialize the prior distribution that samples from the dataset will be mapped onto. The `GlobalEquilibriumHarmonicPrior` (`GEHP`) implements the temperature scaling at the core of the ThermoMap algorithm. We view the prior distribution as the equilibrium distribution arising from dynamics of a *physical* prior system. The `GEHP` assumes that the prior system is a particle in a harmonic trap, which results in a Normal equilibrium distribution whose variance is proportional to temperature.\n",
    "\n",
    "I have also provided a `UnitNormalPrior` (`UNP`) which is a drop-in replacement for the `GEHP` that does not include any temperature rescaling. As such, a ThermoMap trained with a `UNP` is a standard diffusion model.\n",
    "\n",
    "The prior requires the shape of the training data as input as well as the channels that are associated with coordinates and fluctuations (i.e. temperatures). The coordinate dimensions are sampled from a Normal distribution with variance determined by the fluctuation dimensions, while the fluctuation channels are sampled from a unit Normal distribution."
   ]
  },
  {
   "cell_type": "code",
   "execution_count": 11,
   "metadata": {
    "id": "kwVMp771sxkN"
   },
   "outputs": [],
   "source": [
    "prior = GlobalEquilibriumHarmonicPrior(shape=train_loader.data.shape, channels_info={\"coordinate\": [0], \"fluctuation\": [1]})"
   ]
  },
  {
   "cell_type": "markdown",
   "metadata": {
    "id": "ntRN5_Kmsxvq"
   },
   "source": [
    "The `model` is the black-box that is used to parameterize the score. Here we opt for a 2D U-net with attention at the upsampling/downsampling bottleneck."
   ]
  },
  {
   "cell_type": "code",
   "execution_count": 12,
   "metadata": {
    "id": "oA-u8PPfyENF"
   },
   "outputs": [
    {
     "name": "stdout",
     "output_type": "stream",
     "text": [
      "[16, 16, 32, 64, 128]\n"
     ]
    }
   ],
   "source": [
    "model = Unet1D(dim=16, dim_mults=(1, 2, 4, 8), resnet_block_groups=8, channels=2)"
   ]
  },
  {
   "cell_type": "markdown",
   "metadata": {
    "id": "rS17t3qjyWY0"
   },
   "source": [
    "The `backbone` is a wrapper around the model which contains the optimizer, scheduler, and other utilities and implements saving and loading the `model`."
   ]
  },
  {
   "cell_type": "code",
   "execution_count": 13,
   "metadata": {
    "id": "jZR-jU6zzEvO"
   },
   "outputs": [],
   "source": [
    "backbone = ConvBackbone(model=model,\n",
    "                        data_shape=train_loader.data_dim,\n",
    "                        target_shape=320,\n",
    "                        num_dims=3,\n",
    "                        lr=1e-3,\n",
    "                        eval_mode=\"train\",\n",
    "                       interpolate=False)"
   ]
  },
  {
   "cell_type": "markdown",
   "metadata": {
    "id": "FwOzt1tSzLki"
   },
   "source": [
    "The `diffusion` instantiates the noise schedule, and implements the forward and reverse transition kernels of the diffusion process. Functionally, the `diffusion` implements the Euler-Maryuma SDE/Euler ODE solver for the variance-preserving diffusion process."
   ]
  },
  {
   "cell_type": "code",
   "execution_count": 14,
   "metadata": {
    "id": "NstDXiFqEgf3"
   },
   "outputs": [],
   "source": [
    "diffusion = VPDiffusion(num_diffusion_timesteps=100)"
   ]
  },
  {
   "cell_type": "markdown",
   "metadata": {
    "id": "0iK1g87i0UOC"
   },
   "source": [
    "The `trainer` implements the training algorithm, consisting of sampling noise from the `prior`, calls to the transition kernels of the `diffusion`, and parameterizing the `backbone` to match the score."
   ]
  },
  {
   "cell_type": "code",
   "execution_count": 15,
   "metadata": {},
   "outputs": [],
   "source": [
    "dim = 16\n",
    "dim_mults = (1, 2, 4, 8)\n",
    "dims = [None, *map(lambda m: dim * m, dim_mults)]"
   ]
  },
  {
   "cell_type": "code",
   "execution_count": 16,
   "metadata": {},
   "outputs": [
    {
     "data": {
      "text/plain": [
       "[(None, 16), (16, 32), (32, 64), (64, 128)]"
      ]
     },
     "execution_count": 16,
     "metadata": {},
     "output_type": "execute_result"
    }
   ],
   "source": [
    "list(zip(dims[:-1], dims[1:]))"
   ]
  },
  {
   "cell_type": "code",
   "execution_count": 17,
   "metadata": {
    "id": "DKShurrs0Ud2"
   },
   "outputs": [],
   "source": [
    "trainer = DiffusionTrainer(diffusion,\n",
    "                           backbone,\n",
    "                           train_loader,\n",
    "                           prior,\n",
    "                           model_dir=\"/content/models\", # save models every epoch\n",
    "                           pred_type=\"noise\", # set to \"noise\" or \"x0\"\n",
    "                           test_loader=test_loader # optional\n",
    "                           )"
   ]
  },
  {
   "cell_type": "code",
   "execution_count": 18,
   "metadata": {
    "colab": {
     "base_uri": "https://localhost:8080/"
    },
    "id": "awYHZHHUEhMX",
    "outputId": "b3f6d247-df1d-42f5-9448-73ab4ebe60ee"
   },
   "outputs": [
    {
     "name": "stdout",
     "output_type": "stream",
     "text": [
      "epoch: 0 | train loss: 0.046 | test loss: 0.040\n",
      "epoch: 1 | train loss: 0.040 | test loss: 0.037\n",
      "epoch: 2 | train loss: 0.039 | test loss: 0.040\n",
      "epoch: 3 | train loss: 0.039 | test loss: 0.041\n",
      "epoch: 4 | train loss: 0.039 | test loss: 0.039\n",
      "epoch: 5 | train loss: 0.038 | test loss: 0.040\n",
      "epoch: 6 | train loss: 0.038 | test loss: 0.037\n",
      "epoch: 7 | train loss: 0.038 | test loss: 0.037\n",
      "epoch: 8 | train loss: 0.038 | test loss: 0.038\n",
      "epoch: 9 | train loss: 0.039 | test loss: 0.040\n",
      "epoch: 10 | train loss: 0.038 | test loss: 0.036\n",
      "epoch: 11 | train loss: 0.039 | test loss: 0.036\n",
      "epoch: 12 | train loss: 0.039 | test loss: 0.037\n",
      "epoch: 13 | train loss: 0.038 | test loss: 0.037\n",
      "epoch: 14 | train loss: 0.038 | test loss: 0.035\n",
      "epoch: 15 | train loss: 0.038 | test loss: 0.038\n",
      "epoch: 16 | train loss: 0.038 | test loss: 0.037\n",
      "epoch: 17 | train loss: 0.037 | test loss: 0.037\n",
      "epoch: 18 | train loss: 0.038 | test loss: 0.037\n",
      "epoch: 19 | train loss: 0.038 | test loss: 0.040\n"
     ]
    }
   ],
   "source": [
    "trainer.train(20, loss_type=\"smooth_l1\", batch_size=8)\n",
    "# Note that the test loss is usually slightly lower than the training loss. This is because\n",
    "# the training loss is averaged over each epoch (which contains many updates to the weights\n",
    "# via backprop) while the test loss is evaluated at the end of each epoch. Is there a\n",
    "# better way to do this? Probably. But it's low priority at the moment."
   ]
  },
  {
   "cell_type": "markdown",
   "metadata": {
    "id": "heK5m4xj4O7s"
   },
   "source": [
    "The `sampler` is similar to the `trainer`, but rather than calling the $p(x_0|x_t)$ kernel, the `sampler` iteratively calls the $p(x_{t-1}|x_t)$ kernel."
   ]
  },
  {
   "cell_type": "code",
   "execution_count": 19,
   "metadata": {
    "id": "eypC6tCJ4PJx"
   },
   "outputs": [],
   "source": [
    "sampler = SteeredDiffusionSampler(diffusion,\n",
    "                                  backbone,\n",
    "                                  train_loader,\n",
    "                                  prior,\n",
    "                                  pred_type='noise', # must be the same as in DiffusionTrainer\n",
    "                                  )"
   ]
  },
  {
   "cell_type": "markdown",
   "metadata": {
    "id": "FtCQp42L40Yz"
   },
   "source": [
    "With our trained model, we generated samples at a range of different temperatures, store the coordinates in an `EnsembleTrajectory` object, and evaluate observables over the coordinates of the trajectory. Note that there is no temporal order between points in the trajectory, as was the case of the Ising simulator."
   ]
  },
  {
   "cell_type": "code",
   "execution_count": 38,
   "metadata": {},
   "outputs": [],
   "source": [
    "backbone.save_state('model.model', 20)"
   ]
  },
  {
   "cell_type": "code",
   "execution_count": null,
   "metadata": {
    "colab": {
     "base_uri": "https://localhost:8080/"
    },
    "id": "wH_KPSnoOaUE",
    "outputId": "397d9ca4-896a-4299-c26d-1b31b51654b0"
   },
   "outputs": [
    {
     "name": "stderr",
     "output_type": "stream",
     "text": [
      "Generating at T=0.5:   6%|███▉                                                               | 1/17 [3:13:10<51:30:49, 11590.62s/it]"
     ]
    }
   ],
   "source": [
    "trajectories = []\n",
    "pbar = tqdm([0.1, 0.5, 1.0, 1.1, 1.2, 1.3, 1.4, 1.5, 1.6, 1.7, 1.8, 1.9, 2.0, 2.1, 2.2, 2.3, 2.4])\n",
    "for temperature in pbar:\n",
    "  pbar.set_description(f\"Generating at T={temperature:.1f}\")\n",
    "  samples = sampler.sample_loop(num_samples=5000, batch_size=5000, temperature=temperature)\n",
    "  coords = samples[:,0,:].numpy() # take coordinate dimension\n",
    "\n",
    "  # store in trajectory\n",
    "  trajectory = EnsembleTrajectory(summary=Summary(info=\"Generated trajectory\"),\n",
    "                                  state_variables=Summary(temperature=temperature),\n",
    "                                  coordinates=coords)\n",
    "\n",
    "  # evaluate observables over trajectory coordinates and add to trajectory object\n",
    "  #energy = Energy()\n",
    "  #energy.evaluate(trajectory.coordinates)\n",
    "\n",
    "  mag = Magnetization()\n",
    "  mag.evaluate(trajectory.coordinates)\n",
    "\n",
    "  #trajectory.add_observable(energy)\n",
    "  trajectory.add_observable(mag)\n",
    "  trajectories.append(trajectory)"
   ]
  },
  {
   "cell_type": "code",
   "execution_count": 27,
   "metadata": {},
   "outputs": [
    {
     "data": {
      "text/plain": [
       "array([0.66069984, 0.6593195 , 0.6547446 , ..., 0.6629696 , 0.6419867 ,\n",
       "       0.65592194], dtype=float32)"
      ]
     },
     "execution_count": 27,
     "metadata": {},
     "output_type": "execute_result"
    }
   ],
   "source": [
    "coords = samples[:,0,:].numpy() # take coordinate dimension\n",
    "\n",
    "# store in trajectory\n",
    "trajectory = EnsembleTrajectory(summary=Summary(info=\"Generated trajectory\"),\n",
    "                              state_variables=Summary(temperature=temperature),\n",
    "                              coordinates=coords)\n",
    "\n",
    "mag = Magnetization()\n",
    "mag.evaluate(trajectory.coordinates)"
   ]
  },
  {
   "cell_type": "code",
   "execution_count": 31,
   "metadata": {},
   "outputs": [
    {
     "data": {
      "text/plain": [
       "[]"
      ]
     },
     "execution_count": 31,
     "metadata": {},
     "output_type": "execute_result"
    }
   ],
   "source": [
    "trajectories"
   ]
  },
  {
   "cell_type": "code",
   "execution_count": 33,
   "metadata": {},
   "outputs": [
    {
     "data": {
      "text/plain": [
       "[<matplotlib.lines.Line2D at 0x1e67955aeb0>]"
      ]
     },
     "execution_count": 33,
     "metadata": {},
     "output_type": "execute_result"
    },
    {
     "data": {
      "image/png": "[encoded data removed]",
      "text/plain": [
       "<Figure size 640x480 with 1 Axes>"
      ]
     },
     "metadata": {},
     "output_type": "display_data"
    }
   ],
   "source": [
    "plt.plot(mag.evaluate(trajectory.coordinates))\n",
    "plt.plot(trajectories[0].observables['magnetization'])"
   ]
  },
  {
   "cell_type": "code",
   "execution_count": null,
   "metadata": {
    "id": "SZRlG4t_Obk7"
   },
   "outputs": [],
   "source": [
    "generated_M_v_T_mean = {t.state_variables['temperature']: t.observables['magnetization'].quantity.mean() for t in trajectories}\n",
    "generated_E_v_T_mean = {t.state_variables['temperature']: t.observables['energy'].quantity.mean() for t in trajectories}\n",
    "generated_M_v_T_std = {t.state_variables['temperature']: t.observables['magnetization'].quantity.std() for t in trajectories}\n",
    "generated_E_v_T_std = {t.state_variables['temperature']: t.observables['energy'].quantity.std() for t in trajectories}"
   ]
  },
  {
   "cell_type": "markdown",
   "metadata": {
    "id": "_enBJZzP5al1"
   },
   "source": [
    "We find remarkable agreement overlaying the $M(T)$ and $E(T)$ dependence of the ThermoMap-generated and simulated samples."
   ]
  },
  {
   "cell_type": "code",
   "execution_count": null,
   "metadata": {
    "colab": {
     "base_uri": "https://localhost:8080/",
     "height": 592
    },
    "id": "YQk5rDc7P4MQ",
    "outputId": "9049bbbb-2341-4dac-93e7-dcf172e1eea1"
   },
   "outputs": [],
   "source": [
    "# Vary these to view different trajectories/configurations\n",
    "trajectory_idx = -1\n",
    "frame = -1\n",
    "\n",
    "default_blue = plt.rcParams['axes.prop_cycle'].by_key()['color'][0]\n",
    "default_orange = plt.rcParams['axes.prop_cycle'].by_key()['color'][1]\n",
    "\n",
    "fig, (ax1, ax2, ax3) = plt.subplots(1, 3, figsize=(12, 4), dpi=150)\n",
    "\n",
    "# Plot the simulated ising data\n",
    "ax1.plot(list(simulated_M_v_T_mean.keys()), list(simulated_M_v_T_mean.values()), c=default_blue, marker='o', label=\"MC-simulated\")\n",
    "ax1.fill_between(list(simulated_M_v_T_mean.keys()),\n",
    "                 [max(m - s, 0) for m, s in zip(simulated_M_v_T_mean.values(), simulated_M_v_T_std.values())],\n",
    "                 [min(m + s, 1) for m, s in zip(simulated_M_v_T_mean.values(), simulated_M_v_T_std.values())],\n",
    "                 alpha=0.2, color=default_blue)\n",
    "\n",
    "# Plot the generated ising data\n",
    "ax1.plot(list(generated_M_v_T_mean.keys()), list(generated_M_v_T_mean.values()), c=default_orange, marker='o', label=\"TM-simulated\")\n",
    "ax1.fill_between(list(simulated_M_v_T_mean.keys()),\n",
    "                 [max(m - s, 0) for m, s in zip(generated_M_v_T_mean.values(), generated_M_v_T_std.values())],\n",
    "                 [min(m + s, 1) for m, s in zip(generated_M_v_T_mean.values(), generated_M_v_T_std.values())],\n",
    "                 alpha=0.2, color=default_orange)\n",
    "\n",
    "# Plot the training data\n",
    "ax1.scatter(list(train_M_v_T.keys()), list(train_M_v_T.values()), c='r', marker='*', edgecolors='k', s=200, zorder=2, label='Train Data')\n",
    "\n",
    "ax1.set_ylabel('Magnetization')\n",
    "ax1.set_xlabel('Temperature')\n",
    "\n",
    "# Plot the simulated ising data\n",
    "ax2.plot(list(simulated_E_v_T_mean.keys()), list(simulated_E_v_T_mean.values()), c=default_blue, marker='o', label=\"MC-simulated\")\n",
    "ax2.fill_between(list(simulated_E_v_T_mean.keys()),\n",
    "                 [m - s for m, s in zip(simulated_E_v_T_mean.values(), simulated_E_v_T_std.values())],\n",
    "                 [m + s for m, s in zip(simulated_E_v_T_mean.values(), simulated_E_v_T_std.values())],\n",
    "                 alpha=0.2, color=default_blue)\n",
    "\n",
    "# Plot the generated ising data\n",
    "ax2.plot(list(generated_E_v_T_mean.keys()), list(generated_E_v_T_mean.values()), c=default_orange, marker='o', label=\"TM-simulated\")\n",
    "ax2.fill_between(list(simulated_E_v_T_mean.keys()),\n",
    "                 [m - s for m, s in zip(generated_E_v_T_mean.values(), generated_E_v_T_std.values())],\n",
    "                 [m + s for m, s in zip(generated_E_v_T_mean.values(), generated_E_v_T_std.values())],\n",
    "                 alpha=0.2, color=default_orange)\n",
    "\n",
    "# Plot the training data\n",
    "ax2.scatter(list(train_E_v_T.keys()), list(train_E_v_T.values()), c='r', marker='*', edgecolors='k', s=200, zorder=2, label='Train Data')\n",
    "\n",
    "ax2.set_ylabel('Energy')\n",
    "ax2.set_xlabel('Temperature')\n",
    "\n",
    "img = ax3.imshow(trajectories[trajectory_idx].coordinates[frame], aspect='equal', cmap='binary')\n",
    "ax3.set_title(f'Frame {range(len(trajectories[trajectory_idx].coordinates))[frame]} of gen. traj. at T = {round(trajectories[trajectory_idx].state_variables[\"temperature\"], 2)}')\n",
    "ax3.set_xticks([])\n",
    "ax3.set_yticks([])\n",
    "\n",
    "ax1.legend()\n",
    "ax2.legend()\n",
    "plt.tight_layout()\n",
    "plt.show()"
   ]
  },
  {
   "cell_type": "code",
   "execution_count": null,
   "metadata": {
    "colab": {
     "base_uri": "https://localhost:8080/",
     "height": 589
    },
    "id": "r6jFKUphp9GC",
    "outputId": "e1f0031c-0b09-4d3d-f9b5-33123e8fc330"
   },
   "outputs": [],
   "source": [
    "fig, (ax1, ax2) = plt.subplots(1, 2, figsize=(8, 4), dpi=150)\n",
    "\n",
    "ax1.plot(list(simulated_M_v_T_mean.keys()),\n",
    "        -np.gradient(np.array(list(simulated_M_v_T_mean.values())), list(simulated_M_v_T_mean.keys())),\n",
    "        c=default_blue, marker='o', label=\"MC\")\n",
    "\n",
    "ax1.plot(list(generated_M_v_T_mean.keys()),\n",
    "        -np.gradient(np.array(list(generated_M_v_T_mean.values())), list(generated_M_v_T_mean.keys())),\n",
    "        c=default_orange, marker='o', label=\"TM\")\n",
    "\n",
    "ax2.plot(list(simulated_E_v_T_mean.keys()),\n",
    "        np.gradient(np.array(list(simulated_E_v_T_mean.values()))/8**2, list(simulated_E_v_T_mean.keys())),\n",
    "        c=default_blue, marker='o', label=\"MC\")\n",
    "\n",
    "ax2.plot(list(generated_E_v_T_mean.keys()),\n",
    "        np.gradient(np.array(list(generated_E_v_T_mean.values()))/8**2, list(generated_E_v_T_mean.keys())),\n",
    "        c=default_orange, marker='o', label=\"TM\")\n",
    "\n",
    "ax1.set_xlabel(\"Temperature\")\n",
    "ax1.set_ylabel(fr\"$-\\partial M/\\partial T$\")\n",
    "ax1.legend()\n",
    "\n",
    "ax2.set_xlabel(\"Temperature\")\n",
    "ax2.set_ylabel(fr\"$C/k_BN = \\partial E/\\partial T$\")\n",
    "ax2.legend()\n"
   ]
  },
  {
   "cell_type": "code",
   "execution_count": null,
   "metadata": {
    "id": "FIu-Pr_gThCk"
   },
   "outputs": [],
   "source": [
    "\n"
   ]
  }
 ],
 "metadata": {
  "accelerator": "GPU",
  "colab": {
   "authorship_tag": "ABX9TyOLqvU13qBmIUH3Vd3sPTRK",
   "gpuType": "T4",
   "include_colab_link": true,
   "provenance": []
  },
  "kernelspec": {
   "display_name": "Python 3 (ipykernel)",
   "language": "python",
   "name": "python3"
  },
  "language_info": {
   "codemirror_mode": {
    "name": "ipython",
    "version": 3
   },
   "file_extension": ".py",
   "mimetype": "text/x-python",
   "name": "python",
   "nbconvert_exporter": "python",
   "pygments_lexer": "ipython3",
   "version": "3.9.18"
  }
 },
 "nbformat": 4,
 "nbformat_minor": 4
}
